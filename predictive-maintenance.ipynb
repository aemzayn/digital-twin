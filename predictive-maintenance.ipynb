{
 "cells": [
  {
   "cell_type": "code",
   "execution_count": 1,
   "id": "8faa3013-8675-43b0-bb5e-325a67dc5d13",
   "metadata": {},
   "outputs": [],
   "source": [
    "import pandas as pd\n",
    "import numpy as np\n",
    "import matplotlib.pyplot as plt\n",
    "import seaborn as sns"
   ]
  },
  {
   "cell_type": "code",
   "execution_count": 2,
   "id": "6bbe201d-13a4-4b79-b8d0-5da5dd9bc67c",
   "metadata": {},
   "outputs": [],
   "source": [
    "df = pd.read_csv('./datasets/predictive_maintenance.csv')"
   ]
  },
  {
   "cell_type": "code",
   "execution_count": 3,
   "id": "6e1e1e91-8572-4835-9696-bb2f8978b5f5",
   "metadata": {},
   "outputs": [
    {
     "data": {
      "text/html": [
       "<div>\n",
       "<style scoped>\n",
       "    .dataframe tbody tr th:only-of-type {\n",
       "        vertical-align: middle;\n",
       "    }\n",
       "\n",
       "    .dataframe tbody tr th {\n",
       "        vertical-align: top;\n",
       "    }\n",
       "\n",
       "    .dataframe thead th {\n",
       "        text-align: right;\n",
       "    }\n",
       "</style>\n",
       "<table border=\"1\" class=\"dataframe\">\n",
       "  <thead>\n",
       "    <tr style=\"text-align: right;\">\n",
       "      <th></th>\n",
       "      <th>UDI</th>\n",
       "      <th>Product ID</th>\n",
       "      <th>Type</th>\n",
       "      <th>Air temperature [K]</th>\n",
       "      <th>Process temperature [K]</th>\n",
       "      <th>Rotational speed [rpm]</th>\n",
       "      <th>Torque [Nm]</th>\n",
       "      <th>Tool wear [min]</th>\n",
       "      <th>Target</th>\n",
       "      <th>Failure Type</th>\n",
       "    </tr>\n",
       "  </thead>\n",
       "  <tbody>\n",
       "    <tr>\n",
       "      <th>0</th>\n",
       "      <td>1</td>\n",
       "      <td>M14860</td>\n",
       "      <td>M</td>\n",
       "      <td>298.1</td>\n",
       "      <td>308.6</td>\n",
       "      <td>1551</td>\n",
       "      <td>42.8</td>\n",
       "      <td>0</td>\n",
       "      <td>0</td>\n",
       "      <td>No Failure</td>\n",
       "    </tr>\n",
       "    <tr>\n",
       "      <th>1</th>\n",
       "      <td>2</td>\n",
       "      <td>L47181</td>\n",
       "      <td>L</td>\n",
       "      <td>298.2</td>\n",
       "      <td>308.7</td>\n",
       "      <td>1408</td>\n",
       "      <td>46.3</td>\n",
       "      <td>3</td>\n",
       "      <td>0</td>\n",
       "      <td>No Failure</td>\n",
       "    </tr>\n",
       "    <tr>\n",
       "      <th>2</th>\n",
       "      <td>3</td>\n",
       "      <td>L47182</td>\n",
       "      <td>L</td>\n",
       "      <td>298.1</td>\n",
       "      <td>308.5</td>\n",
       "      <td>1498</td>\n",
       "      <td>49.4</td>\n",
       "      <td>5</td>\n",
       "      <td>0</td>\n",
       "      <td>No Failure</td>\n",
       "    </tr>\n",
       "    <tr>\n",
       "      <th>3</th>\n",
       "      <td>4</td>\n",
       "      <td>L47183</td>\n",
       "      <td>L</td>\n",
       "      <td>298.2</td>\n",
       "      <td>308.6</td>\n",
       "      <td>1433</td>\n",
       "      <td>39.5</td>\n",
       "      <td>7</td>\n",
       "      <td>0</td>\n",
       "      <td>No Failure</td>\n",
       "    </tr>\n",
       "    <tr>\n",
       "      <th>4</th>\n",
       "      <td>5</td>\n",
       "      <td>L47184</td>\n",
       "      <td>L</td>\n",
       "      <td>298.2</td>\n",
       "      <td>308.7</td>\n",
       "      <td>1408</td>\n",
       "      <td>40.0</td>\n",
       "      <td>9</td>\n",
       "      <td>0</td>\n",
       "      <td>No Failure</td>\n",
       "    </tr>\n",
       "  </tbody>\n",
       "</table>\n",
       "</div>"
      ],
      "text/plain": [
       "   UDI Product ID Type  Air temperature [K]  Process temperature [K]  \\\n",
       "0    1     M14860    M                298.1                    308.6   \n",
       "1    2     L47181    L                298.2                    308.7   \n",
       "2    3     L47182    L                298.1                    308.5   \n",
       "3    4     L47183    L                298.2                    308.6   \n",
       "4    5     L47184    L                298.2                    308.7   \n",
       "\n",
       "   Rotational speed [rpm]  Torque [Nm]  Tool wear [min]  Target Failure Type  \n",
       "0                    1551         42.8                0       0   No Failure  \n",
       "1                    1408         46.3                3       0   No Failure  \n",
       "2                    1498         49.4                5       0   No Failure  \n",
       "3                    1433         39.5                7       0   No Failure  \n",
       "4                    1408         40.0                9       0   No Failure  "
      ]
     },
     "execution_count": 3,
     "metadata": {},
     "output_type": "execute_result"
    }
   ],
   "source": [
    "df.head()"
   ]
  },
  {
   "cell_type": "code",
   "execution_count": 4,
   "id": "b37c00cb-f21d-4fdd-ad6a-a79c46b36561",
   "metadata": {},
   "outputs": [
    {
     "name": "stdout",
     "output_type": "stream",
     "text": [
      "<class 'pandas.core.frame.DataFrame'>\n",
      "RangeIndex: 10000 entries, 0 to 9999\n",
      "Data columns (total 10 columns):\n",
      " #   Column                   Non-Null Count  Dtype  \n",
      "---  ------                   --------------  -----  \n",
      " 0   UDI                      10000 non-null  int64  \n",
      " 1   Product ID               10000 non-null  object \n",
      " 2   Type                     10000 non-null  object \n",
      " 3   Air temperature [K]      10000 non-null  float64\n",
      " 4   Process temperature [K]  10000 non-null  float64\n",
      " 5   Rotational speed [rpm]   10000 non-null  int64  \n",
      " 6   Torque [Nm]              10000 non-null  float64\n",
      " 7   Tool wear [min]          10000 non-null  int64  \n",
      " 8   Target                   10000 non-null  int64  \n",
      " 9   Failure Type             10000 non-null  object \n",
      "dtypes: float64(3), int64(4), object(3)\n",
      "memory usage: 781.4+ KB\n"
     ]
    }
   ],
   "source": [
    "df.info()"
   ]
  },
  {
   "cell_type": "code",
   "execution_count": 5,
   "id": "2b0e90e4-8dac-4dfe-8e71-116fa1c41ca2",
   "metadata": {},
   "outputs": [
    {
     "data": {
      "text/plain": [
       "UDI                        10000\n",
       "Product ID                 10000\n",
       "Type                           3\n",
       "Air temperature [K]           93\n",
       "Process temperature [K]       82\n",
       "Rotational speed [rpm]       941\n",
       "Torque [Nm]                  577\n",
       "Tool wear [min]              246\n",
       "Target                         2\n",
       "Failure Type                   6\n",
       "dtype: int64"
      ]
     },
     "execution_count": 5,
     "metadata": {},
     "output_type": "execute_result"
    }
   ],
   "source": [
    "df.apply(lambda x: x.nunique())"
   ]
  },
  {
   "cell_type": "markdown",
   "id": "62895c84-0ce6-4aba-ac0c-fb61b6e5081f",
   "metadata": {},
   "source": [
    "# Keşifsel Veri Analizi"
   ]
  },
  {
   "cell_type": "code",
   "execution_count": 6,
   "id": "c9004eab-c22f-408f-9ffd-1b877496e9ba",
   "metadata": {},
   "outputs": [
    {
     "data": {
      "image/png": "[encoded data removed]",
      "text/plain": [
       "<Figure size 1080x576 with 1 Axes>"
      ]
     },
     "metadata": {
      "needs_background": "light"
     },
     "output_type": "display_data"
    }
   ],
   "source": [
    "plt.figure(figsize=(15,8))\n",
    "g=sns.countplot(x='Target', data=df)\n",
    "for i, u in enumerate(df['Target'].value_counts().values):\n",
    "    g.text(i, u, str(u), bbox=dict(facecolor='green', alpha=0.5))\n",
    "plt.title('Non-broken and broken data counts comparison')\n",
    "plt.show()"
   ]
  },
  {
   "cell_type": "code",
   "execution_count": 7,
   "id": "ea78b70f-9fbd-46e1-9c23-ff06b379ff63",
   "metadata": {},
   "outputs": [
    {
     "data": {
      "text/html": [
       "<div>\n",
       "<style scoped>\n",
       "    .dataframe tbody tr th:only-of-type {\n",
       "        vertical-align: middle;\n",
       "    }\n",
       "\n",
       "    .dataframe tbody tr th {\n",
       "        vertical-align: top;\n",
       "    }\n",
       "\n",
       "    .dataframe thead th {\n",
       "        text-align: right;\n",
       "    }\n",
       "</style>\n",
       "<table border=\"1\" class=\"dataframe\">\n",
       "  <thead>\n",
       "    <tr style=\"text-align: right;\">\n",
       "      <th></th>\n",
       "      <th>UDI</th>\n",
       "      <th>Air temperature [K]</th>\n",
       "      <th>Process temperature [K]</th>\n",
       "      <th>Rotational speed [rpm]</th>\n",
       "      <th>Torque [Nm]</th>\n",
       "      <th>Tool wear [min]</th>\n",
       "      <th>Target</th>\n",
       "    </tr>\n",
       "  </thead>\n",
       "  <tbody>\n",
       "    <tr>\n",
       "      <th>count</th>\n",
       "      <td>10000.00000</td>\n",
       "      <td>10000.000000</td>\n",
       "      <td>10000.000000</td>\n",
       "      <td>10000.000000</td>\n",
       "      <td>10000.000000</td>\n",
       "      <td>10000.000000</td>\n",
       "      <td>10000.000000</td>\n",
       "    </tr>\n",
       "    <tr>\n",
       "      <th>mean</th>\n",
       "      <td>5000.50000</td>\n",
       "      <td>300.004930</td>\n",
       "      <td>310.005560</td>\n",
       "      <td>1538.776100</td>\n",
       "      <td>39.986910</td>\n",
       "      <td>107.951000</td>\n",
       "      <td>0.033900</td>\n",
       "    </tr>\n",
       "    <tr>\n",
       "      <th>std</th>\n",
       "      <td>2886.89568</td>\n",
       "      <td>2.000259</td>\n",
       "      <td>1.483734</td>\n",
       "      <td>179.284096</td>\n",
       "      <td>9.968934</td>\n",
       "      <td>63.654147</td>\n",
       "      <td>0.180981</td>\n",
       "    </tr>\n",
       "    <tr>\n",
       "      <th>min</th>\n",
       "      <td>1.00000</td>\n",
       "      <td>295.300000</td>\n",
       "      <td>305.700000</td>\n",
       "      <td>1168.000000</td>\n",
       "      <td>3.800000</td>\n",
       "      <td>0.000000</td>\n",
       "      <td>0.000000</td>\n",
       "    </tr>\n",
       "    <tr>\n",
       "      <th>25%</th>\n",
       "      <td>2500.75000</td>\n",
       "      <td>298.300000</td>\n",
       "      <td>308.800000</td>\n",
       "      <td>1423.000000</td>\n",
       "      <td>33.200000</td>\n",
       "      <td>53.000000</td>\n",
       "      <td>0.000000</td>\n",
       "    </tr>\n",
       "    <tr>\n",
       "      <th>50%</th>\n",
       "      <td>5000.50000</td>\n",
       "      <td>300.100000</td>\n",
       "      <td>310.100000</td>\n",
       "      <td>1503.000000</td>\n",
       "      <td>40.100000</td>\n",
       "      <td>108.000000</td>\n",
       "      <td>0.000000</td>\n",
       "    </tr>\n",
       "    <tr>\n",
       "      <th>75%</th>\n",
       "      <td>7500.25000</td>\n",
       "      <td>301.500000</td>\n",
       "      <td>311.100000</td>\n",
       "      <td>1612.000000</td>\n",
       "      <td>46.800000</td>\n",
       "      <td>162.000000</td>\n",
       "      <td>0.000000</td>\n",
       "    </tr>\n",
       "    <tr>\n",
       "      <th>max</th>\n",
       "      <td>10000.00000</td>\n",
       "      <td>304.500000</td>\n",
       "      <td>313.800000</td>\n",
       "      <td>2886.000000</td>\n",
       "      <td>76.600000</td>\n",
       "      <td>253.000000</td>\n",
       "      <td>1.000000</td>\n",
       "    </tr>\n",
       "  </tbody>\n",
       "</table>\n",
       "</div>"
      ],
      "text/plain": [
       "               UDI  Air temperature [K]  Process temperature [K]  \\\n",
       "count  10000.00000         10000.000000             10000.000000   \n",
       "mean    5000.50000           300.004930               310.005560   \n",
       "std     2886.89568             2.000259                 1.483734   \n",
       "min        1.00000           295.300000               305.700000   \n",
       "25%     2500.75000           298.300000               308.800000   \n",
       "50%     5000.50000           300.100000               310.100000   \n",
       "75%     7500.25000           301.500000               311.100000   \n",
       "max    10000.00000           304.500000               313.800000   \n",
       "\n",
       "       Rotational speed [rpm]   Torque [Nm]  Tool wear [min]        Target  \n",
       "count            10000.000000  10000.000000     10000.000000  10000.000000  \n",
       "mean              1538.776100     39.986910       107.951000      0.033900  \n",
       "std                179.284096      9.968934        63.654147      0.180981  \n",
       "min               1168.000000      3.800000         0.000000      0.000000  \n",
       "25%               1423.000000     33.200000        53.000000      0.000000  \n",
       "50%               1503.000000     40.100000       108.000000      0.000000  \n",
       "75%               1612.000000     46.800000       162.000000      0.000000  \n",
       "max               2886.000000     76.600000       253.000000      1.000000  "
      ]
     },
     "execution_count": 7,
     "metadata": {},
     "output_type": "execute_result"
    }
   ],
   "source": [
    "df.describe()"
   ]
  },
  {
   "cell_type": "code",
   "execution_count": 8,
   "id": "d0f2c75a-0a7a-4762-8881-8a079a965058",
   "metadata": {},
   "outputs": [],
   "source": [
    "def hist_and_bar_plot(x, savefig = False, namefig = \"\"):\n",
    "    fig, (ax1, ax2) = plt.subplots(1, 2,figsize=(10, 3))\n",
    "    sns.histplot(data=df, x=x, kde=True, ax=ax1)\n",
    "    sns.boxplot(data=df, x=x, ax=ax2)\n",
    "    if savefig:\n",
    "        if namefig:\n",
    "            namefig = '-'.join(map(lambda x: str(x).lower(), namefig.split()))\n",
    "        else:\n",
    "            namefig = f\"figure-{random.randint(1, 1000)}\"\n",
    "        fullpath = 'figures/' + namefig\n",
    "        plt.savefig(fullpath)\n",
    "        print(f'figure saved as {namefig}.png')\n",
    "    plt.show()"
   ]
  },
  {
   "cell_type": "code",
   "execution_count": 9,
   "id": "5030933a-e53e-4699-adf8-57ab35e72b78",
   "metadata": {},
   "outputs": [
    {
     "data": {
      "image/png": "[encoded data removed]",
      "text/plain": [
       "<Figure size 720x216 with 2 Axes>"
      ]
     },
     "metadata": {
      "needs_background": "light"
     },
     "output_type": "display_data"
    }
   ],
   "source": [
    "hist_and_bar_plot('Air temperature [K]', namefig=\"Air temperature\")"
   ]
  },
  {
   "cell_type": "code",
   "execution_count": 10,
   "id": "f4bab0e7-3dea-4165-86b0-649462feda02",
   "metadata": {},
   "outputs": [
    {
     "data": {
      "image/png": "[encoded data removed]",
      "text/plain": [
       "<Figure size 720x216 with 2 Axes>"
      ]
     },
     "metadata": {
      "needs_background": "light"
     },
     "output_type": "display_data"
    }
   ],
   "source": [
    "hist_and_bar_plot('Process temperature [K]', False, 'Process temperature')"
   ]
  },
  {
   "cell_type": "code",
   "execution_count": 11,
   "id": "0e82f6c6-8ace-453d-ae87-9a99cca9a39a",
   "metadata": {},
   "outputs": [
    {
     "data": {
      "image/png": "[encoded data removed]",
      "text/plain": [
       "<Figure size 720x216 with 2 Axes>"
      ]
     },
     "metadata": {
      "needs_background": "light"
     },
     "output_type": "display_data"
    }
   ],
   "source": [
    "hist_and_bar_plot('Torque [Nm]', namefig='Torque')"
   ]
  },
  {
   "cell_type": "code",
   "execution_count": 12,
   "id": "d1b4894e-770f-4541-92dc-99b9f319b8e8",
   "metadata": {},
   "outputs": [
    {
     "data": {
      "image/png": "[encoded data removed]",
      "text/plain": [
       "<Figure size 720x216 with 2 Axes>"
      ]
     },
     "metadata": {
      "needs_background": "light"
     },
     "output_type": "display_data"
    }
   ],
   "source": [
    "hist_and_bar_plot('Tool wear [min]', False, 'tool wear')"
   ]
  },
  {
   "cell_type": "code",
   "execution_count": 13,
   "id": "405106b7-67dd-4e66-998f-c3cf6787a7e4",
   "metadata": {},
   "outputs": [
    {
     "data": {
      "image/png": "[encoded data removed]",
      "text/plain": [
       "<Figure size 576x288 with 1 Axes>"
      ]
     },
     "metadata": {
      "needs_background": "light"
     },
     "output_type": "display_data"
    }
   ],
   "source": [
    "plt.figure(figsize=(8,4))\n",
    "h=sns.countplot(x='Type', data=df, order=['L', 'M', 'H'])\n",
    "for i, u in enumerate(df['Type'].value_counts().values):\n",
    "    h.text(i, u, str(u), bbox=dict(facecolor='green', alpha=0.5))\n",
    "plt.ylabel('Count', fontsize=12)\n",
    "plt.xlabel('Type', fontsize=12)\n",
    "plt.title('Tool types', fontsize=16)\n",
    "# plt.savefig('figures/tool-types.png')\n",
    "plt.show()"
   ]
  },
  {
   "cell_type": "code",
   "execution_count": 14,
   "id": "9e84e632-d2e6-4158-ab9d-e71f838b18d2",
   "metadata": {},
   "outputs": [
    {
     "data": {
      "image/png": "[encoded data removed]",
      "text/plain": [
       "<Figure size 720x360 with 1 Axes>"
      ]
     },
     "metadata": {
      "needs_background": "light"
     },
     "output_type": "display_data"
    }
   ],
   "source": [
    "plt.figure(figsize=(10, 5))\n",
    "failures = df[df['Failure Type'] != 'No Failure']\n",
    "hg = sns.countplot(\n",
    "    x='Failure Type',\n",
    "    data=failures,\n",
    "    order=[\n",
    "        'Heat Dissipation Failure',\n",
    "        'Power Failure',\n",
    "        'Overstrain Failure',\n",
    "        'Tool Wear Failure',\n",
    "        'Random Failures'\n",
    "    ]\n",
    ")\n",
    "\n",
    "for i, u in enumerate(failures['Failure Type'].value_counts().values):\n",
    "    hg.text(i, u, str(u), bbox={'facecolor': 'green', 'alpha': 0.5})\n",
    "# plt.savefig('figures/failure-types')\n",
    "plt.show()"
   ]
  },
  {
   "cell_type": "markdown",
   "id": "70e18a06-98f1-4ba9-a79c-51607a44920b",
   "metadata": {},
   "source": [
    "## Relation between features"
   ]
  },
  {
   "cell_type": "code",
   "execution_count": 15,
   "id": "d22c3ae3-9991-43fa-8a25-cd99ef26328a",
   "metadata": {},
   "outputs": [
    {
     "data": {
      "image/png": "[encoded data removed]",
      "text/plain": [
       "<Figure size 576x360 with 1 Axes>"
      ]
     },
     "metadata": {
      "needs_background": "light"
     },
     "output_type": "display_data"
    }
   ],
   "source": [
    "plt.figure(figsize=(8,5))\n",
    "sns.scatterplot(\n",
    "    x='Air temperature [K]',\n",
    "    y='Process temperature [K]',\n",
    "    data=df,\n",
    "    hue='Target',\n",
    "    alpha=0.75\n",
    ")\n",
    "# plt.savefig('figures/scatter-air-temperature')\n",
    "plt.show()"
   ]
  },
  {
   "cell_type": "code",
   "execution_count": 16,
   "id": "030db2e5-99c3-4b01-ac36-46501334dd0a",
   "metadata": {},
   "outputs": [
    {
     "data": {
      "image/png": "[encoded data removed]",
      "text/plain": [
       "<Figure size 576x360 with 1 Axes>"
      ]
     },
     "metadata": {
      "needs_background": "light"
     },
     "output_type": "display_data"
    }
   ],
   "source": [
    "plt.figure(figsize=(8,5))\n",
    "sns.scatterplot(\n",
    "    x='Rotational speed [rpm]',\n",
    "    y='Torque [Nm]',\n",
    "    data=df,\n",
    "    hue='Target',\n",
    "    alpha=0.75\n",
    ")\n",
    "# plt.savefig('figures/scatter-torque-rotational')\n",
    "plt.show()"
   ]
  },
  {
   "cell_type": "code",
   "execution_count": 17,
   "id": "c15a893c-5d5b-49ce-82a4-cb2dc122da38",
   "metadata": {},
   "outputs": [
    {
     "data": {
      "text/html": [
       "<div>\n",
       "<style scoped>\n",
       "    .dataframe tbody tr th:only-of-type {\n",
       "        vertical-align: middle;\n",
       "    }\n",
       "\n",
       "    .dataframe tbody tr th {\n",
       "        vertical-align: top;\n",
       "    }\n",
       "\n",
       "    .dataframe thead th {\n",
       "        text-align: right;\n",
       "    }\n",
       "</style>\n",
       "<table border=\"1\" class=\"dataframe\">\n",
       "  <thead>\n",
       "    <tr style=\"text-align: right;\">\n",
       "      <th></th>\n",
       "      <th>UDI</th>\n",
       "      <th>Product ID</th>\n",
       "      <th>Type</th>\n",
       "      <th>Air temperature [K]</th>\n",
       "      <th>Process temperature [K]</th>\n",
       "      <th>Rotational speed [rpm]</th>\n",
       "      <th>Torque [Nm]</th>\n",
       "      <th>Tool wear [min]</th>\n",
       "      <th>Target</th>\n",
       "      <th>Failure Type</th>\n",
       "    </tr>\n",
       "  </thead>\n",
       "  <tbody>\n",
       "    <tr>\n",
       "      <th>0</th>\n",
       "      <td>1</td>\n",
       "      <td>M14860</td>\n",
       "      <td>M</td>\n",
       "      <td>298.1</td>\n",
       "      <td>308.6</td>\n",
       "      <td>1551</td>\n",
       "      <td>42.8</td>\n",
       "      <td>0</td>\n",
       "      <td>0</td>\n",
       "      <td>No Failure</td>\n",
       "    </tr>\n",
       "    <tr>\n",
       "      <th>1</th>\n",
       "      <td>2</td>\n",
       "      <td>L47181</td>\n",
       "      <td>L</td>\n",
       "      <td>298.2</td>\n",
       "      <td>308.7</td>\n",
       "      <td>1408</td>\n",
       "      <td>46.3</td>\n",
       "      <td>3</td>\n",
       "      <td>0</td>\n",
       "      <td>No Failure</td>\n",
       "    </tr>\n",
       "    <tr>\n",
       "      <th>2</th>\n",
       "      <td>3</td>\n",
       "      <td>L47182</td>\n",
       "      <td>L</td>\n",
       "      <td>298.1</td>\n",
       "      <td>308.5</td>\n",
       "      <td>1498</td>\n",
       "      <td>49.4</td>\n",
       "      <td>5</td>\n",
       "      <td>0</td>\n",
       "      <td>No Failure</td>\n",
       "    </tr>\n",
       "    <tr>\n",
       "      <th>3</th>\n",
       "      <td>4</td>\n",
       "      <td>L47183</td>\n",
       "      <td>L</td>\n",
       "      <td>298.2</td>\n",
       "      <td>308.6</td>\n",
       "      <td>1433</td>\n",
       "      <td>39.5</td>\n",
       "      <td>7</td>\n",
       "      <td>0</td>\n",
       "      <td>No Failure</td>\n",
       "    </tr>\n",
       "    <tr>\n",
       "      <th>4</th>\n",
       "      <td>5</td>\n",
       "      <td>L47184</td>\n",
       "      <td>L</td>\n",
       "      <td>298.2</td>\n",
       "      <td>308.7</td>\n",
       "      <td>1408</td>\n",
       "      <td>40.0</td>\n",
       "      <td>9</td>\n",
       "      <td>0</td>\n",
       "      <td>No Failure</td>\n",
       "    </tr>\n",
       "  </tbody>\n",
       "</table>\n",
       "</div>"
      ],
      "text/plain": [
       "   UDI Product ID Type  Air temperature [K]  Process temperature [K]  \\\n",
       "0    1     M14860    M                298.1                    308.6   \n",
       "1    2     L47181    L                298.2                    308.7   \n",
       "2    3     L47182    L                298.1                    308.5   \n",
       "3    4     L47183    L                298.2                    308.6   \n",
       "4    5     L47184    L                298.2                    308.7   \n",
       "\n",
       "   Rotational speed [rpm]  Torque [Nm]  Tool wear [min]  Target Failure Type  \n",
       "0                    1551         42.8                0       0   No Failure  \n",
       "1                    1408         46.3                3       0   No Failure  \n",
       "2                    1498         49.4                5       0   No Failure  \n",
       "3                    1433         39.5                7       0   No Failure  \n",
       "4                    1408         40.0                9       0   No Failure  "
      ]
     },
     "execution_count": 17,
     "metadata": {},
     "output_type": "execute_result"
    }
   ],
   "source": [
    "df.head()"
   ]
  },
  {
   "cell_type": "markdown",
   "id": "f8030f53-556b-4261-a450-ed3b2fa9ca71",
   "metadata": {},
   "source": [
    "# Verileri Temizleme"
   ]
  },
  {
   "cell_type": "markdown",
   "id": "a48210c6-969f-4bb9-99ba-253880767920",
   "metadata": {},
   "source": [
    "Because the UDI and Product Id will not be useful neither in the classification and analysis, we drop both of them  "
   ]
  },
  {
   "cell_type": "code",
   "execution_count": 18,
   "id": "232e923e-8496-436b-a463-2a2fd2f885f8",
   "metadata": {},
   "outputs": [],
   "source": [
    "df.drop(df.columns[:2], axis=1, inplace=True)"
   ]
  },
  {
   "cell_type": "markdown",
   "id": "ed7a24ed-373d-4d16-8292-8a122944dca9",
   "metadata": {},
   "source": [
    "We also want to drop the Target col because in this project we only use Failure Type for the classification"
   ]
  },
  {
   "cell_type": "code",
   "execution_count": 19,
   "id": "a3a3df61-ce14-44cb-b3ad-c87f544758fd",
   "metadata": {},
   "outputs": [],
   "source": [
    "df.drop('Target', axis=1, inplace=True)"
   ]
  },
  {
   "cell_type": "code",
   "execution_count": 20,
   "id": "ed758ff6-50c6-4baf-b67e-33aacb77121f",
   "metadata": {},
   "outputs": [
    {
     "data": {
      "text/html": [
       "<div>\n",
       "<style scoped>\n",
       "    .dataframe tbody tr th:only-of-type {\n",
       "        vertical-align: middle;\n",
       "    }\n",
       "\n",
       "    .dataframe tbody tr th {\n",
       "        vertical-align: top;\n",
       "    }\n",
       "\n",
       "    .dataframe thead th {\n",
       "        text-align: right;\n",
       "    }\n",
       "</style>\n",
       "<table border=\"1\" class=\"dataframe\">\n",
       "  <thead>\n",
       "    <tr style=\"text-align: right;\">\n",
       "      <th></th>\n",
       "      <th>Type</th>\n",
       "      <th>Air temperature [K]</th>\n",
       "      <th>Process temperature [K]</th>\n",
       "      <th>Rotational speed [rpm]</th>\n",
       "      <th>Torque [Nm]</th>\n",
       "      <th>Tool wear [min]</th>\n",
       "      <th>Failure Type</th>\n",
       "    </tr>\n",
       "  </thead>\n",
       "  <tbody>\n",
       "    <tr>\n",
       "      <th>0</th>\n",
       "      <td>M</td>\n",
       "      <td>298.1</td>\n",
       "      <td>308.6</td>\n",
       "      <td>1551</td>\n",
       "      <td>42.8</td>\n",
       "      <td>0</td>\n",
       "      <td>No Failure</td>\n",
       "    </tr>\n",
       "    <tr>\n",
       "      <th>1</th>\n",
       "      <td>L</td>\n",
       "      <td>298.2</td>\n",
       "      <td>308.7</td>\n",
       "      <td>1408</td>\n",
       "      <td>46.3</td>\n",
       "      <td>3</td>\n",
       "      <td>No Failure</td>\n",
       "    </tr>\n",
       "    <tr>\n",
       "      <th>2</th>\n",
       "      <td>L</td>\n",
       "      <td>298.1</td>\n",
       "      <td>308.5</td>\n",
       "      <td>1498</td>\n",
       "      <td>49.4</td>\n",
       "      <td>5</td>\n",
       "      <td>No Failure</td>\n",
       "    </tr>\n",
       "    <tr>\n",
       "      <th>3</th>\n",
       "      <td>L</td>\n",
       "      <td>298.2</td>\n",
       "      <td>308.6</td>\n",
       "      <td>1433</td>\n",
       "      <td>39.5</td>\n",
       "      <td>7</td>\n",
       "      <td>No Failure</td>\n",
       "    </tr>\n",
       "    <tr>\n",
       "      <th>4</th>\n",
       "      <td>L</td>\n",
       "      <td>298.2</td>\n",
       "      <td>308.7</td>\n",
       "      <td>1408</td>\n",
       "      <td>40.0</td>\n",
       "      <td>9</td>\n",
       "      <td>No Failure</td>\n",
       "    </tr>\n",
       "  </tbody>\n",
       "</table>\n",
       "</div>"
      ],
      "text/plain": [
       "  Type  Air temperature [K]  Process temperature [K]  Rotational speed [rpm]  \\\n",
       "0    M                298.1                    308.6                    1551   \n",
       "1    L                298.2                    308.7                    1408   \n",
       "2    L                298.1                    308.5                    1498   \n",
       "3    L                298.2                    308.6                    1433   \n",
       "4    L                298.2                    308.7                    1408   \n",
       "\n",
       "   Torque [Nm]  Tool wear [min] Failure Type  \n",
       "0         42.8                0   No Failure  \n",
       "1         46.3                3   No Failure  \n",
       "2         49.4                5   No Failure  \n",
       "3         39.5                7   No Failure  \n",
       "4         40.0                9   No Failure  "
      ]
     },
     "execution_count": 20,
     "metadata": {},
     "output_type": "execute_result"
    }
   ],
   "source": [
    "df.head()"
   ]
  },
  {
   "cell_type": "markdown",
   "id": "dc611f74-fc54-4dde-86de-18c7b9256f47",
   "metadata": {},
   "source": [
    "# Veri Ön İşleme"
   ]
  },
  {
   "cell_type": "markdown",
   "id": "c2355519-5cf5-40f4-84f6-435dc6c3c0fd",
   "metadata": {},
   "source": [
    "Use LabelEncoder to change Failure Type feature data to number"
   ]
  },
  {
   "cell_type": "code",
   "execution_count": 21,
   "id": "cd8b1c8c-8419-4d49-ae95-9fea0258e9e0",
   "metadata": {},
   "outputs": [],
   "source": [
    "from sklearn.preprocessing import LabelEncoder"
   ]
  },
  {
   "cell_type": "code",
   "execution_count": 22,
   "id": "f14521c2-059a-4a66-a165-917ed725ed0c",
   "metadata": {},
   "outputs": [],
   "source": [
    "encoder = LabelEncoder()"
   ]
  },
  {
   "cell_type": "code",
   "execution_count": 23,
   "id": "f66b117a-829b-41ff-9a86-64bec87b45fb",
   "metadata": {},
   "outputs": [],
   "source": [
    "df.loc[:,df.columns[-1]] = encoder.fit_transform(df.loc[:, df.columns[-1]])"
   ]
  },
  {
   "cell_type": "code",
   "execution_count": 24,
   "id": "e68a6f85-4da1-4e99-b90f-1b098b282546",
   "metadata": {},
   "outputs": [
    {
     "data": {
      "text/html": [
       "<div>\n",
       "<style scoped>\n",
       "    .dataframe tbody tr th:only-of-type {\n",
       "        vertical-align: middle;\n",
       "    }\n",
       "\n",
       "    .dataframe tbody tr th {\n",
       "        vertical-align: top;\n",
       "    }\n",
       "\n",
       "    .dataframe thead th {\n",
       "        text-align: right;\n",
       "    }\n",
       "</style>\n",
       "<table border=\"1\" class=\"dataframe\">\n",
       "  <thead>\n",
       "    <tr style=\"text-align: right;\">\n",
       "      <th></th>\n",
       "      <th>Type</th>\n",
       "      <th>Air temperature [K]</th>\n",
       "      <th>Process temperature [K]</th>\n",
       "      <th>Rotational speed [rpm]</th>\n",
       "      <th>Torque [Nm]</th>\n",
       "      <th>Tool wear [min]</th>\n",
       "      <th>Failure Type</th>\n",
       "    </tr>\n",
       "  </thead>\n",
       "  <tbody>\n",
       "    <tr>\n",
       "      <th>0</th>\n",
       "      <td>M</td>\n",
       "      <td>298.1</td>\n",
       "      <td>308.6</td>\n",
       "      <td>1551</td>\n",
       "      <td>42.8</td>\n",
       "      <td>0</td>\n",
       "      <td>1</td>\n",
       "    </tr>\n",
       "    <tr>\n",
       "      <th>1</th>\n",
       "      <td>L</td>\n",
       "      <td>298.2</td>\n",
       "      <td>308.7</td>\n",
       "      <td>1408</td>\n",
       "      <td>46.3</td>\n",
       "      <td>3</td>\n",
       "      <td>1</td>\n",
       "    </tr>\n",
       "    <tr>\n",
       "      <th>2</th>\n",
       "      <td>L</td>\n",
       "      <td>298.1</td>\n",
       "      <td>308.5</td>\n",
       "      <td>1498</td>\n",
       "      <td>49.4</td>\n",
       "      <td>5</td>\n",
       "      <td>1</td>\n",
       "    </tr>\n",
       "    <tr>\n",
       "      <th>3</th>\n",
       "      <td>L</td>\n",
       "      <td>298.2</td>\n",
       "      <td>308.6</td>\n",
       "      <td>1433</td>\n",
       "      <td>39.5</td>\n",
       "      <td>7</td>\n",
       "      <td>1</td>\n",
       "    </tr>\n",
       "    <tr>\n",
       "      <th>4</th>\n",
       "      <td>L</td>\n",
       "      <td>298.2</td>\n",
       "      <td>308.7</td>\n",
       "      <td>1408</td>\n",
       "      <td>40.0</td>\n",
       "      <td>9</td>\n",
       "      <td>1</td>\n",
       "    </tr>\n",
       "  </tbody>\n",
       "</table>\n",
       "</div>"
      ],
      "text/plain": [
       "  Type  Air temperature [K]  Process temperature [K]  Rotational speed [rpm]  \\\n",
       "0    M                298.1                    308.6                    1551   \n",
       "1    L                298.2                    308.7                    1408   \n",
       "2    L                298.1                    308.5                    1498   \n",
       "3    L                298.2                    308.6                    1433   \n",
       "4    L                298.2                    308.7                    1408   \n",
       "\n",
       "   Torque [Nm]  Tool wear [min]  Failure Type  \n",
       "0         42.8                0             1  \n",
       "1         46.3                3             1  \n",
       "2         49.4                5             1  \n",
       "3         39.5                7             1  \n",
       "4         40.0                9             1  "
      ]
     },
     "execution_count": 24,
     "metadata": {},
     "output_type": "execute_result"
    }
   ],
   "source": [
    "df.head()"
   ]
  },
  {
   "cell_type": "markdown",
   "id": "11c707fd-a5d3-43b2-bcda-52643acf712b",
   "metadata": {
    "tags": []
   },
   "source": [
    "Use `pandas.get_dummies()` to convert categorical value to dummy/indicator values "
   ]
  },
  {
   "cell_type": "code",
   "execution_count": 25,
   "id": "cdac2306-6df0-4a82-8db5-c7774a7cab14",
   "metadata": {},
   "outputs": [],
   "source": [
    "df = pd.get_dummies(df, drop_first=True)"
   ]
  },
  {
   "cell_type": "code",
   "execution_count": 26,
   "id": "a6db1115-99d1-43e1-ab48-8eeea5a84413",
   "metadata": {},
   "outputs": [
    {
     "data": {
      "text/html": [
       "<div>\n",
       "<style scoped>\n",
       "    .dataframe tbody tr th:only-of-type {\n",
       "        vertical-align: middle;\n",
       "    }\n",
       "\n",
       "    .dataframe tbody tr th {\n",
       "        vertical-align: top;\n",
       "    }\n",
       "\n",
       "    .dataframe thead th {\n",
       "        text-align: right;\n",
       "    }\n",
       "</style>\n",
       "<table border=\"1\" class=\"dataframe\">\n",
       "  <thead>\n",
       "    <tr style=\"text-align: right;\">\n",
       "      <th></th>\n",
       "      <th>Air temperature [K]</th>\n",
       "      <th>Process temperature [K]</th>\n",
       "      <th>Rotational speed [rpm]</th>\n",
       "      <th>Torque [Nm]</th>\n",
       "      <th>Tool wear [min]</th>\n",
       "      <th>Failure Type</th>\n",
       "      <th>Type_L</th>\n",
       "      <th>Type_M</th>\n",
       "    </tr>\n",
       "  </thead>\n",
       "  <tbody>\n",
       "    <tr>\n",
       "      <th>0</th>\n",
       "      <td>298.1</td>\n",
       "      <td>308.6</td>\n",
       "      <td>1551</td>\n",
       "      <td>42.8</td>\n",
       "      <td>0</td>\n",
       "      <td>1</td>\n",
       "      <td>0</td>\n",
       "      <td>1</td>\n",
       "    </tr>\n",
       "    <tr>\n",
       "      <th>1</th>\n",
       "      <td>298.2</td>\n",
       "      <td>308.7</td>\n",
       "      <td>1408</td>\n",
       "      <td>46.3</td>\n",
       "      <td>3</td>\n",
       "      <td>1</td>\n",
       "      <td>1</td>\n",
       "      <td>0</td>\n",
       "    </tr>\n",
       "    <tr>\n",
       "      <th>2</th>\n",
       "      <td>298.1</td>\n",
       "      <td>308.5</td>\n",
       "      <td>1498</td>\n",
       "      <td>49.4</td>\n",
       "      <td>5</td>\n",
       "      <td>1</td>\n",
       "      <td>1</td>\n",
       "      <td>0</td>\n",
       "    </tr>\n",
       "    <tr>\n",
       "      <th>3</th>\n",
       "      <td>298.2</td>\n",
       "      <td>308.6</td>\n",
       "      <td>1433</td>\n",
       "      <td>39.5</td>\n",
       "      <td>7</td>\n",
       "      <td>1</td>\n",
       "      <td>1</td>\n",
       "      <td>0</td>\n",
       "    </tr>\n",
       "    <tr>\n",
       "      <th>4</th>\n",
       "      <td>298.2</td>\n",
       "      <td>308.7</td>\n",
       "      <td>1408</td>\n",
       "      <td>40.0</td>\n",
       "      <td>9</td>\n",
       "      <td>1</td>\n",
       "      <td>1</td>\n",
       "      <td>0</td>\n",
       "    </tr>\n",
       "  </tbody>\n",
       "</table>\n",
       "</div>"
      ],
      "text/plain": [
       "   Air temperature [K]  Process temperature [K]  Rotational speed [rpm]  \\\n",
       "0                298.1                    308.6                    1551   \n",
       "1                298.2                    308.7                    1408   \n",
       "2                298.1                    308.5                    1498   \n",
       "3                298.2                    308.6                    1433   \n",
       "4                298.2                    308.7                    1408   \n",
       "\n",
       "   Torque [Nm]  Tool wear [min]  Failure Type  Type_L  Type_M  \n",
       "0         42.8                0             1       0       1  \n",
       "1         46.3                3             1       1       0  \n",
       "2         49.4                5             1       1       0  \n",
       "3         39.5                7             1       1       0  \n",
       "4         40.0                9             1       1       0  "
      ]
     },
     "execution_count": 26,
     "metadata": {},
     "output_type": "execute_result"
    }
   ],
   "source": [
    "df.head()"
   ]
  },
  {
   "cell_type": "code",
   "execution_count": 27,
   "id": "55aa8416-8d72-4bdd-9a3c-bcbb16b04e7f",
   "metadata": {},
   "outputs": [],
   "source": [
    "df.columns=df.columns.astype(\"str\")"
   ]
  },
  {
   "cell_type": "code",
   "execution_count": 28,
   "id": "14038115-3856-41f4-9c42-f761a726d71f",
   "metadata": {},
   "outputs": [],
   "source": [
    "col_name = df.columns.to_list()"
   ]
  },
  {
   "cell_type": "code",
   "execution_count": 29,
   "id": "15d12db8-6626-45e5-890b-5f15fadfe8fe",
   "metadata": {},
   "outputs": [
    {
     "data": {
      "text/plain": [
       "['Air temperature [K]',\n",
       " 'Process temperature [K]',\n",
       " 'Rotational speed [rpm]',\n",
       " 'Torque [Nm]',\n",
       " 'Tool wear [min]',\n",
       " 'Failure Type',\n",
       " 'Type_L',\n",
       " 'Type_M']"
      ]
     },
     "execution_count": 29,
     "metadata": {},
     "output_type": "execute_result"
    }
   ],
   "source": [
    "col_name"
   ]
  },
  {
   "cell_type": "code",
   "execution_count": 30,
   "id": "5f851636-6bf7-43ff-8382-ddc18af964f1",
   "metadata": {},
   "outputs": [],
   "source": [
    "target_col = col_name.pop(-3)"
   ]
  },
  {
   "cell_type": "code",
   "execution_count": 31,
   "id": "a12ca279-e557-457e-bf45-733ca0e4a038",
   "metadata": {},
   "outputs": [],
   "source": [
    "feature_col = col_name"
   ]
  },
  {
   "cell_type": "code",
   "execution_count": 32,
   "id": "8230881d-f0b5-4f3c-bc46-cd27d23ed25d",
   "metadata": {},
   "outputs": [
    {
     "data": {
      "text/plain": [
       "(['Air temperature [K]',\n",
       "  'Process temperature [K]',\n",
       "  'Rotational speed [rpm]',\n",
       "  'Torque [Nm]',\n",
       "  'Tool wear [min]',\n",
       "  'Type_L',\n",
       "  'Type_M'],\n",
       " 'Failure Type')"
      ]
     },
     "execution_count": 32,
     "metadata": {},
     "output_type": "execute_result"
    }
   ],
   "source": [
    "feature_col, target_col"
   ]
  },
  {
   "cell_type": "markdown",
   "id": "5e95e64f-431b-4390-bc96-3c305d03341d",
   "metadata": {},
   "source": [
    "# Dengesiz veriler için oversampling uygulanması"
   ]
  },
  {
   "cell_type": "code",
   "execution_count": 33,
   "id": "3a6efee0-bb34-45d0-bc01-4ec2b856933c",
   "metadata": {},
   "outputs": [],
   "source": [
    "from imblearn.combine import SMOTETomek\n",
    "from collections import Counter"
   ]
  },
  {
   "cell_type": "code",
   "execution_count": 34,
   "id": "e16fa6fd-9941-4ae5-8c27-376592fc03ef",
   "metadata": {},
   "outputs": [],
   "source": [
    "X = df.drop('Failure Type', axis=1)\n",
    "X_values = X.values"
   ]
  },
  {
   "cell_type": "code",
   "execution_count": 35,
   "id": "986ef3eb-4727-4b78-93d3-c2667b3d563f",
   "metadata": {},
   "outputs": [],
   "source": [
    "y = df['Failure Type']\n",
    "y_values = y.values"
   ]
  },
  {
   "cell_type": "code",
   "execution_count": 36,
   "id": "a7430de3-1bd9-4880-ac3c-622f3cf09d91",
   "metadata": {},
   "outputs": [],
   "source": [
    "smk = SMOTETomek(random_state=42)"
   ]
  },
  {
   "cell_type": "code",
   "execution_count": 37,
   "id": "8f36897b-d0d3-405c-99eb-be292653c975",
   "metadata": {},
   "outputs": [],
   "source": [
    "X_res, y_res = smk.fit_resample(X_values, y_values)"
   ]
  },
  {
   "cell_type": "code",
   "execution_count": 38,
   "id": "337f3de2-d8eb-49fa-be62-edf76187b8e4",
   "metadata": {},
   "outputs": [
    {
     "data": {
      "text/plain": [
       "((57868, 7), (57868,))"
      ]
     },
     "execution_count": 38,
     "metadata": {},
     "output_type": "execute_result"
    }
   ],
   "source": [
    "X_res.shape, y_res.shape"
   ]
  },
  {
   "cell_type": "code",
   "execution_count": 39,
   "id": "f706c0f5-1b50-478c-a5ff-9b200b08ea8a",
   "metadata": {},
   "outputs": [],
   "source": [
    "df_new = pd.concat([pd.DataFrame(X_res), pd.DataFrame(y_res)], axis=1)"
   ]
  },
  {
   "cell_type": "code",
   "execution_count": 40,
   "id": "27b40bc8-5a01-4c21-854b-94c47c87fdf5",
   "metadata": {},
   "outputs": [
    {
     "data": {
      "text/html": [
       "<div>\n",
       "<style scoped>\n",
       "    .dataframe tbody tr th:only-of-type {\n",
       "        vertical-align: middle;\n",
       "    }\n",
       "\n",
       "    .dataframe tbody tr th {\n",
       "        vertical-align: top;\n",
       "    }\n",
       "\n",
       "    .dataframe thead th {\n",
       "        text-align: right;\n",
       "    }\n",
       "</style>\n",
       "<table border=\"1\" class=\"dataframe\">\n",
       "  <thead>\n",
       "    <tr style=\"text-align: right;\">\n",
       "      <th></th>\n",
       "      <th>0</th>\n",
       "      <th>1</th>\n",
       "      <th>2</th>\n",
       "      <th>3</th>\n",
       "      <th>4</th>\n",
       "      <th>5</th>\n",
       "      <th>6</th>\n",
       "      <th>0</th>\n",
       "    </tr>\n",
       "  </thead>\n",
       "  <tbody>\n",
       "    <tr>\n",
       "      <th>0</th>\n",
       "      <td>298.1</td>\n",
       "      <td>308.6</td>\n",
       "      <td>1551.0</td>\n",
       "      <td>42.8</td>\n",
       "      <td>0.0</td>\n",
       "      <td>0.0</td>\n",
       "      <td>1.0</td>\n",
       "      <td>1</td>\n",
       "    </tr>\n",
       "    <tr>\n",
       "      <th>1</th>\n",
       "      <td>298.2</td>\n",
       "      <td>308.7</td>\n",
       "      <td>1408.0</td>\n",
       "      <td>46.3</td>\n",
       "      <td>3.0</td>\n",
       "      <td>1.0</td>\n",
       "      <td>0.0</td>\n",
       "      <td>1</td>\n",
       "    </tr>\n",
       "    <tr>\n",
       "      <th>2</th>\n",
       "      <td>298.1</td>\n",
       "      <td>308.5</td>\n",
       "      <td>1498.0</td>\n",
       "      <td>49.4</td>\n",
       "      <td>5.0</td>\n",
       "      <td>1.0</td>\n",
       "      <td>0.0</td>\n",
       "      <td>1</td>\n",
       "    </tr>\n",
       "    <tr>\n",
       "      <th>3</th>\n",
       "      <td>298.2</td>\n",
       "      <td>308.6</td>\n",
       "      <td>1433.0</td>\n",
       "      <td>39.5</td>\n",
       "      <td>7.0</td>\n",
       "      <td>1.0</td>\n",
       "      <td>0.0</td>\n",
       "      <td>1</td>\n",
       "    </tr>\n",
       "    <tr>\n",
       "      <th>4</th>\n",
       "      <td>298.2</td>\n",
       "      <td>308.7</td>\n",
       "      <td>1408.0</td>\n",
       "      <td>40.0</td>\n",
       "      <td>9.0</td>\n",
       "      <td>1.0</td>\n",
       "      <td>0.0</td>\n",
       "      <td>1</td>\n",
       "    </tr>\n",
       "  </tbody>\n",
       "</table>\n",
       "</div>"
      ],
      "text/plain": [
       "       0      1       2     3    4    5    6  0\n",
       "0  298.1  308.6  1551.0  42.8  0.0  0.0  1.0  1\n",
       "1  298.2  308.7  1408.0  46.3  3.0  1.0  0.0  1\n",
       "2  298.1  308.5  1498.0  49.4  5.0  1.0  0.0  1\n",
       "3  298.2  308.6  1433.0  39.5  7.0  1.0  0.0  1\n",
       "4  298.2  308.7  1408.0  40.0  9.0  1.0  0.0  1"
      ]
     },
     "execution_count": 40,
     "metadata": {},
     "output_type": "execute_result"
    }
   ],
   "source": [
    "df_new.head()"
   ]
  },
  {
   "cell_type": "code",
   "execution_count": 41,
   "id": "c76923cd-a7c3-4a1f-86e0-59d52c6d5f51",
   "metadata": {},
   "outputs": [
    {
     "data": {
      "text/html": [
       "<div>\n",
       "<style scoped>\n",
       "    .dataframe tbody tr th:only-of-type {\n",
       "        vertical-align: middle;\n",
       "    }\n",
       "\n",
       "    .dataframe tbody tr th {\n",
       "        vertical-align: top;\n",
       "    }\n",
       "\n",
       "    .dataframe thead th {\n",
       "        text-align: right;\n",
       "    }\n",
       "</style>\n",
       "<table border=\"1\" class=\"dataframe\">\n",
       "  <thead>\n",
       "    <tr style=\"text-align: right;\">\n",
       "      <th></th>\n",
       "      <th>Air temperature [K]</th>\n",
       "      <th>Process temperature [K]</th>\n",
       "      <th>Rotational speed [rpm]</th>\n",
       "      <th>Torque [Nm]</th>\n",
       "      <th>Tool wear [min]</th>\n",
       "      <th>Type_L</th>\n",
       "      <th>Type_M</th>\n",
       "      <th>Failure Type</th>\n",
       "    </tr>\n",
       "  </thead>\n",
       "  <tbody>\n",
       "    <tr>\n",
       "      <th>0</th>\n",
       "      <td>298.1</td>\n",
       "      <td>308.6</td>\n",
       "      <td>1551.0</td>\n",
       "      <td>42.8</td>\n",
       "      <td>0.0</td>\n",
       "      <td>0.0</td>\n",
       "      <td>1.0</td>\n",
       "      <td>1</td>\n",
       "    </tr>\n",
       "    <tr>\n",
       "      <th>1</th>\n",
       "      <td>298.2</td>\n",
       "      <td>308.7</td>\n",
       "      <td>1408.0</td>\n",
       "      <td>46.3</td>\n",
       "      <td>3.0</td>\n",
       "      <td>1.0</td>\n",
       "      <td>0.0</td>\n",
       "      <td>1</td>\n",
       "    </tr>\n",
       "    <tr>\n",
       "      <th>2</th>\n",
       "      <td>298.1</td>\n",
       "      <td>308.5</td>\n",
       "      <td>1498.0</td>\n",
       "      <td>49.4</td>\n",
       "      <td>5.0</td>\n",
       "      <td>1.0</td>\n",
       "      <td>0.0</td>\n",
       "      <td>1</td>\n",
       "    </tr>\n",
       "    <tr>\n",
       "      <th>3</th>\n",
       "      <td>298.2</td>\n",
       "      <td>308.6</td>\n",
       "      <td>1433.0</td>\n",
       "      <td>39.5</td>\n",
       "      <td>7.0</td>\n",
       "      <td>1.0</td>\n",
       "      <td>0.0</td>\n",
       "      <td>1</td>\n",
       "    </tr>\n",
       "    <tr>\n",
       "      <th>4</th>\n",
       "      <td>298.2</td>\n",
       "      <td>308.7</td>\n",
       "      <td>1408.0</td>\n",
       "      <td>40.0</td>\n",
       "      <td>9.0</td>\n",
       "      <td>1.0</td>\n",
       "      <td>0.0</td>\n",
       "      <td>1</td>\n",
       "    </tr>\n",
       "  </tbody>\n",
       "</table>\n",
       "</div>"
      ],
      "text/plain": [
       "   Air temperature [K]  Process temperature [K]  Rotational speed [rpm]  \\\n",
       "0                298.1                    308.6                  1551.0   \n",
       "1                298.2                    308.7                  1408.0   \n",
       "2                298.1                    308.5                  1498.0   \n",
       "3                298.2                    308.6                  1433.0   \n",
       "4                298.2                    308.7                  1408.0   \n",
       "\n",
       "   Torque [Nm]  Tool wear [min]  Type_L  Type_M  Failure Type  \n",
       "0         42.8              0.0     0.0     1.0             1  \n",
       "1         46.3              3.0     1.0     0.0             1  \n",
       "2         49.4              5.0     1.0     0.0             1  \n",
       "3         39.5              7.0     1.0     0.0             1  \n",
       "4         40.0              9.0     1.0     0.0             1  "
      ]
     },
     "execution_count": 41,
     "metadata": {},
     "output_type": "execute_result"
    }
   ],
   "source": [
    "col_new=X.columns\n",
    "col_new=col_new.to_list()\n",
    "col_new.append(target_col)\n",
    "df_new.columns=col_new\n",
    "df_new.head()"
   ]
  },
  {
   "cell_type": "code",
   "execution_count": 42,
   "id": "64bc4787-5fc0-4839-af73-c0d94b2409ff",
   "metadata": {},
   "outputs": [
    {
     "data": {
      "image/png": "[encoded data removed]",
      "text/plain": [
       "<Figure size 432x288 with 1 Axes>"
      ]
     },
     "metadata": {
      "needs_background": "light"
     },
     "output_type": "display_data"
    }
   ],
   "source": [
    "sns.countplot(data=df_new, x=\"Failure Type\")\n",
    "plt.show()"
   ]
  },
  {
   "cell_type": "markdown",
   "id": "0bbd08c1-eae8-4c40-954c-552c024ba17c",
   "metadata": {},
   "source": [
    "# Classification"
   ]
  },
  {
   "cell_type": "code",
   "execution_count": 43,
   "id": "85bdbab8-91d5-4d09-bb50-22358425430f",
   "metadata": {},
   "outputs": [],
   "source": [
    "from sklearn.metrics import confusion_matrix, classification_report, accuracy_score, roc_auc_score\n",
    "from sklearn.model_selection import StratifiedKFold\n",
    "from sklearn.model_selection import train_test_split\n",
    "\n",
    "# models\n",
    "from sklearn.svm import SVC\n",
    "from sklearn.neighbors import KNeighborsClassifier\n",
    "from sklearn.ensemble import RandomForestClassifier\n",
    "# from sklearn.naive_bayes import GaussianNB\n",
    "\n",
    "import warnings\n",
    "warnings.filterwarnings('ignore')\n",
    "from sklearn.preprocessing import RobustScaler"
   ]
  },
  {
   "cell_type": "markdown",
   "id": "7ee37f62-3b5c-4650-a87f-9fa2d6469338",
   "metadata": {},
   "source": [
    "## Using K-NN"
   ]
  },
  {
   "cell_type": "code",
   "execution_count": 44,
   "id": "d9912ae3-e60f-4440-a4f7-8a02dd3a7c94",
   "metadata": {},
   "outputs": [
    {
     "name": "stdout",
     "output_type": "stream",
     "text": [
      "The fold is : 0\n",
      "              precision    recall  f1-score   support\n",
      "\n",
      "           0       0.55      1.00      0.71       112\n",
      "           1       1.00      0.94      0.97      9652\n",
      "           2       0.51      1.00      0.68        78\n",
      "           3       0.57      1.00      0.72        95\n",
      "           4       0.13      1.00      0.23        18\n",
      "           5       0.21      1.00      0.34        45\n",
      "\n",
      "    accuracy                           0.95     10000\n",
      "   macro avg       0.49      0.99      0.61     10000\n",
      "weighted avg       0.98      0.95      0.96     10000\n",
      "\n",
      "The fold is : 1\n",
      "              precision    recall  f1-score   support\n",
      "\n",
      "           0       0.41      1.00      0.58       112\n",
      "           1       1.00      0.93      0.96      9652\n",
      "           2       0.52      1.00      0.68        78\n",
      "           3       0.58      1.00      0.73        95\n",
      "           4       0.09      1.00      0.16        18\n",
      "           5       0.17      1.00      0.30        45\n",
      "\n",
      "    accuracy                           0.93     10000\n",
      "   macro avg       0.46      0.99      0.57     10000\n",
      "weighted avg       0.98      0.93      0.95     10000\n",
      "\n",
      "The fold is : 2\n",
      "              precision    recall  f1-score   support\n",
      "\n",
      "           0       0.28      1.00      0.44       112\n",
      "           1       1.00      0.90      0.94      9652\n",
      "           2       0.46      1.00      0.63        78\n",
      "           3       0.62      1.00      0.77        95\n",
      "           4       0.06      1.00      0.11        18\n",
      "           5       0.13      1.00      0.23        45\n",
      "\n",
      "    accuracy                           0.90     10000\n",
      "   macro avg       0.43      0.98      0.52     10000\n",
      "weighted avg       0.98      0.90      0.93     10000\n",
      "\n",
      "The fold is : 3\n",
      "              precision    recall  f1-score   support\n",
      "\n",
      "           0       0.47      1.00      0.64       112\n",
      "           1       1.00      0.92      0.96      9652\n",
      "           2       0.49      1.00      0.66        78\n",
      "           3       0.58      1.00      0.74        95\n",
      "           4       0.07      1.00      0.13        18\n",
      "           5       0.17      1.00      0.30        45\n",
      "\n",
      "    accuracy                           0.93     10000\n",
      "   macro avg       0.47      0.99      0.57     10000\n",
      "weighted avg       0.98      0.93      0.95     10000\n",
      "\n",
      "The fold is : 4\n",
      "              precision    recall  f1-score   support\n",
      "\n",
      "           0       0.55      1.00      0.71       112\n",
      "           1       1.00      0.94      0.97      9652\n",
      "           2       0.54      1.00      0.70        78\n",
      "           3       0.57      1.00      0.72        95\n",
      "           4       0.12      1.00      0.21        18\n",
      "           5       0.21      1.00      0.34        45\n",
      "\n",
      "    accuracy                           0.95     10000\n",
      "   macro avg       0.50      0.99      0.61     10000\n",
      "weighted avg       0.98      0.95      0.96     10000\n",
      "\n"
     ]
    }
   ],
   "source": [
    "acc_KNN = []\n",
    "kf = StratifiedKFold()\n",
    "for fold, (trn_, val_) in enumerate(kf.split(X=df_new, y=y_res)):\n",
    "    X_train = df_new.loc[trn_, feature_col]\n",
    "    y_train = df_new.loc[trn_, target_col]\n",
    "    \n",
    "    X_valid = df_new.loc[val_, feature_col]\n",
    "    Y_valid = df_new.loc[val_, target_col]\n",
    "    \n",
    "    ro_scaler = RobustScaler()\n",
    "    X_train = ro_scaler.fit_transform(X_train)\n",
    "    X_valid = ro_scaler.transform(X_valid)\n",
    "    x_test_split = ro_scaler.transform(df[feature_col])\n",
    "    \n",
    "    clf = KNeighborsClassifier(n_neighbors=4)\n",
    "    clf.fit(X_train, y_train)\n",
    "    y_pred = clf.predict(x_test_split)\n",
    "    \n",
    "    print(f\"The fold is : {fold}\")\n",
    "    print(classification_report(df[target_col].values, y_pred))"
   ]
  },
  {
   "cell_type": "markdown",
   "id": "b7ab296e-0818-4bc0-9c52-d581f8d30951",
   "metadata": {},
   "source": [
    "## SVM"
   ]
  },
  {
   "cell_type": "code",
   "execution_count": 45,
   "id": "61a7c070-ed77-4092-87e3-2f6fe0f02164",
   "metadata": {},
   "outputs": [
    {
     "name": "stdout",
     "output_type": "stream",
     "text": [
      "The fold is : 0 : \n",
      "              precision    recall  f1-score   support\n",
      "\n",
      "           0       0.40      0.99      0.56       112\n",
      "           1       1.00      0.84      0.91      9652\n",
      "           2       0.48      0.99      0.64        78\n",
      "           3       0.52      1.00      0.69        95\n",
      "           4       0.02      0.83      0.04        18\n",
      "           5       0.08      0.98      0.15        45\n",
      "\n",
      "    accuracy                           0.84     10000\n",
      "   macro avg       0.42      0.94      0.50     10000\n",
      "weighted avg       0.98      0.84      0.90     10000\n",
      "\n",
      "The fold is : 1 : \n",
      "              precision    recall  f1-score   support\n",
      "\n",
      "           0       0.35      0.99      0.52       112\n",
      "           1       1.00      0.82      0.90      9652\n",
      "           2       0.49      0.99      0.65        78\n",
      "           3       0.53      1.00      0.69        95\n",
      "           4       0.02      0.83      0.03        18\n",
      "           5       0.08      0.98      0.15        45\n",
      "\n",
      "    accuracy                           0.83     10000\n",
      "   macro avg       0.41      0.93      0.49     10000\n",
      "weighted avg       0.98      0.83      0.89     10000\n",
      "\n",
      "The fold is : 2 : \n",
      "              precision    recall  f1-score   support\n",
      "\n",
      "           0       0.28      0.99      0.43       112\n",
      "           1       1.00      0.78      0.88      9652\n",
      "           2       0.49      0.99      0.66        78\n",
      "           3       0.53      1.00      0.69        95\n",
      "           4       0.01      0.83      0.02        18\n",
      "           5       0.08      0.98      0.15        45\n",
      "\n",
      "    accuracy                           0.79     10000\n",
      "   macro avg       0.40      0.93      0.47     10000\n",
      "weighted avg       0.98      0.79      0.86     10000\n",
      "\n",
      "The fold is : 3 : \n",
      "              precision    recall  f1-score   support\n",
      "\n",
      "           0       0.37      0.99      0.54       112\n",
      "           1       1.00      0.80      0.89      9652\n",
      "           2       0.48      0.99      0.65        78\n",
      "           3       0.53      1.00      0.69        95\n",
      "           4       0.01      0.78      0.03        18\n",
      "           5       0.08      0.98      0.15        45\n",
      "\n",
      "    accuracy                           0.81     10000\n",
      "   macro avg       0.41      0.92      0.49     10000\n",
      "weighted avg       0.98      0.81      0.88     10000\n",
      "\n",
      "The fold is : 4 : \n",
      "              precision    recall  f1-score   support\n",
      "\n",
      "           0       0.40      0.99      0.57       112\n",
      "           1       1.00      0.84      0.91      9652\n",
      "           2       0.51      1.00      0.68        78\n",
      "           3       0.53      1.00      0.69        95\n",
      "           4       0.02      0.83      0.04        18\n",
      "           5       0.08      0.98      0.15        45\n",
      "\n",
      "    accuracy                           0.84     10000\n",
      "   macro avg       0.42      0.94      0.51     10000\n",
      "weighted avg       0.98      0.84      0.90     10000\n",
      "\n"
     ]
    }
   ],
   "source": [
    "acc_svm_rbf=[]\n",
    "kf=StratifiedKFold(n_splits=5)\n",
    "for fold, (trn_,val_) in enumerate(kf.split(X=df_new,y=y_res)):\n",
    "    X_train = df_new.loc[trn_,feature_col]\n",
    "    y_train = df_new.loc[trn_,target_col]\n",
    "    \n",
    "    X_valid = df_new.loc[val_,feature_col]\n",
    "    y_valid = df_new.loc[val_,target_col]\n",
    "    \n",
    "    ro_scaler = RobustScaler()\n",
    "    X_train = ro_scaler.fit_transform(X_train)\n",
    "    X_valid = ro_scaler.transform(X_valid)\n",
    "    x_test_split = ro_scaler.transform(df[feature_col])\n",
    "    \n",
    "    clf=SVC(kernel=\"rbf\")\n",
    "    clf.fit(X_train, y_train)\n",
    "    y_pred = clf.predict(x_test_split)\n",
    "    \n",
    "    print(f\"The fold is : {fold} : \")\n",
    "    print(classification_report(df[target_col].values, y_pred))"
   ]
  },
  {
   "cell_type": "markdown",
   "id": "9de872b5-a829-4592-914e-f514223721cb",
   "metadata": {},
   "source": [
    "## Random Forest"
   ]
  },
  {
   "cell_type": "code",
   "execution_count": 46,
   "id": "07694865-b4c5-4fa3-85d2-1bcb667a820b",
   "metadata": {},
   "outputs": [
    {
     "name": "stdout",
     "output_type": "stream",
     "text": [
      "The fold is : 0\n",
      "              precision    recall  f1-score   support\n",
      "\n",
      "           0       1.00      0.95      0.97       112\n",
      "           1       1.00      0.99      1.00      9652\n",
      "           2       0.93      0.99      0.96        78\n",
      "           3       0.90      1.00      0.95        95\n",
      "           4       0.71      0.56      0.63        18\n",
      "           5       0.56      0.93      0.70        45\n",
      "\n",
      "    accuracy                           0.99     10000\n",
      "   macro avg       0.85      0.90      0.87     10000\n",
      "weighted avg       0.99      0.99      0.99     10000\n",
      "\n",
      "The fold is : 1\n",
      "              precision    recall  f1-score   support\n",
      "\n",
      "           0       0.79      1.00      0.88       112\n",
      "           1       1.00      0.99      0.99      9652\n",
      "           2       0.86      1.00      0.92        78\n",
      "           3       0.89      1.00      0.94        95\n",
      "           4       0.40      1.00      0.57        18\n",
      "           5       0.48      1.00      0.65        45\n",
      "\n",
      "    accuracy                           0.99     10000\n",
      "   macro avg       0.74      1.00      0.83     10000\n",
      "weighted avg       0.99      0.99      0.99     10000\n",
      "\n",
      "The fold is : 2\n",
      "              precision    recall  f1-score   support\n",
      "\n",
      "           0       0.56      1.00      0.72       112\n",
      "           1       1.00      0.97      0.99      9652\n",
      "           2       0.89      1.00      0.94        78\n",
      "           3       0.87      1.00      0.93        95\n",
      "           4       0.18      1.00      0.30        18\n",
      "           5       0.37      1.00      0.54        45\n",
      "\n",
      "    accuracy                           0.97     10000\n",
      "   macro avg       0.64      1.00      0.74     10000\n",
      "weighted avg       0.99      0.97      0.98     10000\n",
      "\n",
      "The fold is : 3\n",
      "              precision    recall  f1-score   support\n",
      "\n",
      "           0       1.00      1.00      1.00       112\n",
      "           1       1.00      0.98      0.99      9652\n",
      "           2       0.89      1.00      0.94        78\n",
      "           3       0.80      1.00      0.89        95\n",
      "           4       0.14      1.00      0.25        18\n",
      "           5       0.45      1.00      0.62        45\n",
      "\n",
      "    accuracy                           0.98     10000\n",
      "   macro avg       0.71      1.00      0.78     10000\n",
      "weighted avg       0.99      0.98      0.99     10000\n",
      "\n",
      "The fold is : 4\n",
      "              precision    recall  f1-score   support\n",
      "\n",
      "           0       1.00      1.00      1.00       112\n",
      "           1       1.00      0.99      1.00      9652\n",
      "           2       0.93      1.00      0.96        78\n",
      "           3       0.90      1.00      0.95        95\n",
      "           4       0.46      1.00      0.63        18\n",
      "           5       0.68      1.00      0.81        45\n",
      "\n",
      "    accuracy                           0.99     10000\n",
      "   macro avg       0.83      1.00      0.89     10000\n",
      "weighted avg       1.00      0.99      0.99     10000\n",
      "\n"
     ]
    }
   ],
   "source": [
    "acc_rf = []\n",
    "kf = StratifiedKFold(5)\n",
    "for fold, (trn_, val_) in enumerate(kf.split(X=df_new, y=y_res)):\n",
    "    X_train = df_new.loc[trn_, feature_col]\n",
    "    y_train = df_new.loc[trn_, target_col]\n",
    "    \n",
    "    X_valid = df_new.loc[val_, feature_col]\n",
    "    y_valid = df_new.loc[val_, target_col]\n",
    "    \n",
    "    ro_scaler = RobustScaler()\n",
    "    X_train = ro_scaler.fit_transform(X_train)\n",
    "    X_valid = ro_scaler.transform(X_valid)\n",
    "    x_test_split = ro_scaler.transform(df[feature_col])\n",
    "    \n",
    "    clf = RandomForestClassifier(n_estimators=55,criterion=\"entropy\")\n",
    "    clf.fit(X_train,y_train)\n",
    "    y_pred = clf.predict(x_test_split)\n",
    "    \n",
    "    print(f\"The fold is : {fold}\")\n",
    "    print(classification_report(df[target_col].values, y_pred))"
   ]
  },
  {
   "cell_type": "markdown",
   "id": "0cc7c39b-6764-48ef-ad1a-bb199b571807",
   "metadata": {},
   "source": [
    "# Naive Bayes"
   ]
  },
  {
   "cell_type": "code",
   "execution_count": 47,
   "id": "438fe471-37d8-409a-b96c-be4bb52f060f",
   "metadata": {},
   "outputs": [],
   "source": [
    "# from sklearn.naive_bayes import GaussianNB\n",
    "# acc_nb = []\n",
    "# kf = StratifiedKFold(5)\n",
    "# for fold, (trn_, val_) in enumerate(kf.split(X=df_new, y=y_res)):\n",
    "#     X_train = df_new.loc[trn_, feature_col]\n",
    "#     y_train = df_new.loc[trn_, target_col]\n",
    "    \n",
    "#     X_valid = df_new.loc[val_, feature_col]\n",
    "#     y_valid = df_new.loc[val_, target_col]\n",
    "    \n",
    "#     ro_scaler = RobustScaler()\n",
    "#     X_train = ro_scaler.fit_transform(X_train)\n",
    "#     X_valid = ro_scaler.transform(X_valid)\n",
    "#     x_test_split = ro_scaler.transform(df[feature_col])\n",
    "    \n",
    "#     clf = GaussianNB()\n",
    "#     clf.fit(X_train,y_train)\n",
    "#     y_pred = clf.predict(x_test_split)\n",
    "    \n",
    "#     print(f\"The fold is : {fold}\")\n",
    "#     print(classification_report(df[target_col].values, y_pred))"
   ]
  }
 ],
 "metadata": {
  "kernelspec": {
   "display_name": "Python 3.9.12 ('base')",
   "language": "python",
   "name": "python3"
  },
  "language_info": {
   "codemirror_mode": {
    "name": "ipython",
    "version": 3
   },
   "file_extension": ".py",
   "mimetype": "text/x-python",
   "name": "python",
   "nbconvert_exporter": "python",
   "pygments_lexer": "ipython3",
   "version": "3.9.12"
  },
  "vscode": {
   "interpreter": {
    "hash": "78c960279fecff9e244480132042affa22d495e3cfc64966045877e7ad2bb26d"
   }
  }
 },
 "nbformat": 4,
 "nbformat_minor": 5
}
